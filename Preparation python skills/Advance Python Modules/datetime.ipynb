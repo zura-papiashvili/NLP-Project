{
 "cells": [
  {
   "cell_type": "code",
   "execution_count": 1,
   "id": "e2be1206",
   "metadata": {},
   "outputs": [],
   "source": [
    "import datetime"
   ]
  },
  {
   "cell_type": "code",
   "execution_count": 2,
   "id": "64f2be75",
   "metadata": {},
   "outputs": [],
   "source": [
    "current=datetime.time(2,20)\n",
    "current.minute\n",
    "print(current)"
   ]
  },
  {
   "cell_type": "code",
   "execution_count": 9,
   "id": "5da66b6a",
   "metadata": {},
   "outputs": [
    {
     "name": "stdout",
     "output_type": "stream",
     "text": [
      "2021-11-19\n",
      "11\n",
      "Fri Nov 19 00:00:00 2021\n"
     ]
    }
   ],
   "source": [
    "today=datetime.date.today()\n",
    "print(today)\n",
    "print(today.month)\n",
    "print(today.ctime())"
   ]
  },
  {
   "cell_type": "code",
   "execution_count": 10,
   "id": "1107a651",
   "metadata": {},
   "outputs": [],
   "source": [
    "from datetime import datetime"
   ]
  },
  {
   "cell_type": "code",
   "execution_count": 13,
   "id": "4f23a561",
   "metadata": {},
   "outputs": [
    {
     "name": "stdout",
     "output_type": "stream",
     "text": [
      "2021-10-08 12:12:01.000045\n"
     ]
    }
   ],
   "source": [
    "dt1=datetime(2021,10,8,12,12,1,45)\n",
    "print(dt1)"
   ]
  },
  {
   "cell_type": "code",
   "execution_count": 14,
   "id": "514d6ae7",
   "metadata": {},
   "outputs": [
    {
     "name": "stdout",
     "output_type": "stream",
     "text": [
      "2021-10-08 12:12:01.000045\n"
     ]
    }
   ],
   "source": [
    "dt1.replace(year=2022)\n",
    "print(dt1)"
   ]
  },
  {
   "cell_type": "code",
   "execution_count": 15,
   "id": "15625cc3",
   "metadata": {},
   "outputs": [],
   "source": [
    "from datetime import date"
   ]
  },
  {
   "cell_type": "code",
   "execution_count": 27,
   "id": "92e8f6b6",
   "metadata": {},
   "outputs": [
    {
     "name": "stdout",
     "output_type": "stream",
     "text": [
      "153 days, 0:00:00\n"
     ]
    }
   ],
   "source": [
    "d1=date(2021,10,8)\n",
    "d2=date(2021,5,8)\n",
    "result=d1-d2\n",
    "print(result)"
   ]
  },
  {
   "cell_type": "code",
   "execution_count": 41,
   "id": "778062b7",
   "metadata": {},
   "outputs": [
    {
     "name": "stdout",
     "output_type": "stream",
     "text": [
      "75509\n",
      "-1 day, 20:58:29\n"
     ]
    }
   ],
   "source": [
    "d1=datetime(2021,10,8,4,4,3)\n",
    "d2=datetime(2021,10,8,7,5,34)\n",
    "result=d1-d2\n",
    "print(result.seconds)\n",
    "print(result)"
   ]
  }
 ],
 "metadata": {
  "hide_input": false,
  "kernelspec": {
   "display_name": "Python 3",
   "language": "python",
   "name": "python3"
  },
  "language_info": {
   "codemirror_mode": {
    "name": "ipython",
    "version": 3
   },
   "file_extension": ".py",
   "mimetype": "text/x-python",
   "name": "python",
   "nbconvert_exporter": "python",
   "pygments_lexer": "ipython3",
   "version": "3.8.5"
  }
 },
 "nbformat": 4,
 "nbformat_minor": 5
}
