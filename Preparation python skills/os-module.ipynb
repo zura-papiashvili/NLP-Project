{
 "cells": [
  {
   "cell_type": "markdown",
   "id": "8b28fdb1",
   "metadata": {},
   "source": [
    "# OS Module"
   ]
  },
  {
   "cell_type": "code",
   "execution_count": 2,
   "id": "6294bafe",
   "metadata": {},
   "outputs": [],
   "source": [
    "import os"
   ]
  },
  {
   "cell_type": "code",
   "execution_count": 8,
   "id": "521d7ba2",
   "metadata": {},
   "outputs": [
    {
     "data": {
      "text/plain": [
       "'C:\\\\Users\\\\zurab\\\\Dropbox\\\\Shared Folder\\\\Python\\\\NLP-Project\\\\Preparation python skills\\\\Advance Python Modules'"
      ]
     },
     "execution_count": 8,
     "metadata": {},
     "output_type": "execute_result"
    }
   ],
   "source": [
    "# Current working directory\n",
    "os.getcwd()"
   ]
  },
  {
   "cell_type": "markdown",
   "id": "b3ef7567",
   "metadata": {},
   "source": [
    "os.walk() to walkthrough in directories"
   ]
  },
  {
   "cell_type": "code",
   "execution_count": 21,
   "id": "70bfc81b",
   "metadata": {},
   "outputs": [
    {
     "name": "stdout",
     "output_type": "stream",
     "text": [
      "('C:\\\\Users\\\\zurab\\\\Dropbox\\\\Shared Folder\\\\Python\\\\NLP-Project', ['.git', '.ipynb_checkpoints', 'Preparation python skills'], ['.gitignore', 'README.md']) ('C:\\\\Users\\\\zurab\\\\Dropbox\\\\Shared Folder\\\\Python\\\\NLP-Project\\\\.git', ['hooks', 'info', 'logs', 'objects', 'refs'], ['config', 'description', 'FETCH_HEAD', 'HEAD', 'index', 'packed-refs']) ('C:\\\\Users\\\\zurab\\\\Dropbox\\\\Shared Folder\\\\Python\\\\NLP-Project\\\\.git\\\\hooks', [], ['applypatch-msg.sample', 'commit-msg.sample', 'fsmonitor-watchman.sample', 'post-update.sample', 'pre-applypatch.sample', 'pre-commit.sample', 'pre-merge-commit.sample', 'pre-push.sample', 'pre-rebase.sample', 'pre-receive.sample', 'prepare-commit-msg.sample', 'push-to-checkout.sample', 'update.sample']) ('C:\\\\Users\\\\zurab\\\\Dropbox\\\\Shared Folder\\\\Python\\\\NLP-Project\\\\.git\\\\info', [], ['exclude']) ('C:\\\\Users\\\\zurab\\\\Dropbox\\\\Shared Folder\\\\Python\\\\NLP-Project\\\\.git\\\\logs', ['refs'], ['HEAD']) ('C:\\\\Users\\\\zurab\\\\Dropbox\\\\Shared Folder\\\\Python\\\\NLP-Project\\\\.git\\\\logs\\\\refs', ['heads', 'remotes'], []) ('C:\\\\Users\\\\zurab\\\\Dropbox\\\\Shared Folder\\\\Python\\\\NLP-Project\\\\.git\\\\logs\\\\refs\\\\heads', [], ['main']) ('C:\\\\Users\\\\zurab\\\\Dropbox\\\\Shared Folder\\\\Python\\\\NLP-Project\\\\.git\\\\logs\\\\refs\\\\remotes', ['origin'], []) ('C:\\\\Users\\\\zurab\\\\Dropbox\\\\Shared Folder\\\\Python\\\\NLP-Project\\\\.git\\\\logs\\\\refs\\\\remotes\\\\origin', [], ['HEAD']) ('C:\\\\Users\\\\zurab\\\\Dropbox\\\\Shared Folder\\\\Python\\\\NLP-Project\\\\.git\\\\objects', ['info', 'pack'], []) ('C:\\\\Users\\\\zurab\\\\Dropbox\\\\Shared Folder\\\\Python\\\\NLP-Project\\\\.git\\\\objects\\\\info', [], []) ('C:\\\\Users\\\\zurab\\\\Dropbox\\\\Shared Folder\\\\Python\\\\NLP-Project\\\\.git\\\\objects\\\\pack', [], ['pack-7af839f5e08103438944b0bd07e5994c0ef8f24b.idx', 'pack-7af839f5e08103438944b0bd07e5994c0ef8f24b.pack']) ('C:\\\\Users\\\\zurab\\\\Dropbox\\\\Shared Folder\\\\Python\\\\NLP-Project\\\\.git\\\\refs', ['heads', 'remotes', 'tags'], []) ('C:\\\\Users\\\\zurab\\\\Dropbox\\\\Shared Folder\\\\Python\\\\NLP-Project\\\\.git\\\\refs\\\\heads', [], ['main']) ('C:\\\\Users\\\\zurab\\\\Dropbox\\\\Shared Folder\\\\Python\\\\NLP-Project\\\\.git\\\\refs\\\\remotes', ['origin'], []) ('C:\\\\Users\\\\zurab\\\\Dropbox\\\\Shared Folder\\\\Python\\\\NLP-Project\\\\.git\\\\refs\\\\remotes\\\\origin', [], ['HEAD']) ('C:\\\\Users\\\\zurab\\\\Dropbox\\\\Shared Folder\\\\Python\\\\NLP-Project\\\\.git\\\\refs\\\\tags', [], []) ('C:\\\\Users\\\\zurab\\\\Dropbox\\\\Shared Folder\\\\Python\\\\NLP-Project\\\\.ipynb_checkpoints', [], []) ('C:\\\\Users\\\\zurab\\\\Dropbox\\\\Shared Folder\\\\Python\\\\NLP-Project\\\\Preparation python skills', ['.ipynb_checkpoints', 'Advance Python Modules'], []) ('C:\\\\Users\\\\zurab\\\\Dropbox\\\\Shared Folder\\\\Python\\\\NLP-Project\\\\Preparation python skills\\\\.ipynb_checkpoints', [], []) ('C:\\\\Users\\\\zurab\\\\Dropbox\\\\Shared Folder\\\\Python\\\\NLP-Project\\\\Preparation python skills\\\\Advance Python Modules', ['.ipynb_checkpoints'], ['datetime.ipynb', 'os-module.ipynb']) ('C:\\\\Users\\\\zurab\\\\Dropbox\\\\Shared Folder\\\\Python\\\\NLP-Project\\\\Preparation python skills\\\\Advance Python Modules\\\\.ipynb_checkpoints', [], ['datetime-checkpoint.ipynb', 'os-module-checkpoint.ipynb'])\n"
     ]
    }
   ],
   "source": [
    "print(*os.walk(path))"
   ]
  },
  {
   "cell_type": "code",
   "execution_count": 17,
   "id": "e4e04e3b",
   "metadata": {},
   "outputs": [
    {
     "name": "stdout",
     "output_type": "stream",
     "text": [
      "C:\\Users\\zurab\\Dropbox\\Shared Folder\\Python\\NLP-Project\n",
      "\t.git\n",
      "\t.ipynb_checkpoints\n",
      "\tPreparation python skills\n",
      "\t.gitignore\n",
      "\tREADME.md\n",
      "C:\\Users\\zurab\\Dropbox\\Shared Folder\\Python\\NLP-Project\\.git\n",
      "\thooks\n",
      "\tinfo\n",
      "\tlogs\n",
      "\tobjects\n",
      "\trefs\n",
      "\tconfig\n",
      "\tdescription\n",
      "\tFETCH_HEAD\n",
      "\tHEAD\n",
      "\tindex\n",
      "\tpacked-refs\n",
      "C:\\Users\\zurab\\Dropbox\\Shared Folder\\Python\\NLP-Project\\.git\\hooks\n",
      "\tapplypatch-msg.sample\n",
      "\tcommit-msg.sample\n",
      "\tfsmonitor-watchman.sample\n",
      "\tpost-update.sample\n",
      "\tpre-applypatch.sample\n",
      "\tpre-commit.sample\n",
      "\tpre-merge-commit.sample\n",
      "\tpre-push.sample\n",
      "\tpre-rebase.sample\n",
      "\tpre-receive.sample\n",
      "\tprepare-commit-msg.sample\n",
      "\tpush-to-checkout.sample\n",
      "\tupdate.sample\n",
      "C:\\Users\\zurab\\Dropbox\\Shared Folder\\Python\\NLP-Project\\.git\\info\n",
      "\texclude\n",
      "C:\\Users\\zurab\\Dropbox\\Shared Folder\\Python\\NLP-Project\\.git\\logs\n",
      "\trefs\n",
      "\tHEAD\n",
      "C:\\Users\\zurab\\Dropbox\\Shared Folder\\Python\\NLP-Project\\.git\\logs\\refs\n",
      "\theads\n",
      "\tremotes\n",
      "C:\\Users\\zurab\\Dropbox\\Shared Folder\\Python\\NLP-Project\\.git\\logs\\refs\\heads\n",
      "\tmain\n",
      "C:\\Users\\zurab\\Dropbox\\Shared Folder\\Python\\NLP-Project\\.git\\logs\\refs\\remotes\n",
      "\torigin\n",
      "C:\\Users\\zurab\\Dropbox\\Shared Folder\\Python\\NLP-Project\\.git\\logs\\refs\\remotes\\origin\n",
      "\tHEAD\n",
      "C:\\Users\\zurab\\Dropbox\\Shared Folder\\Python\\NLP-Project\\.git\\objects\n",
      "\tinfo\n",
      "\tpack\n",
      "C:\\Users\\zurab\\Dropbox\\Shared Folder\\Python\\NLP-Project\\.git\\objects\\info\n",
      "C:\\Users\\zurab\\Dropbox\\Shared Folder\\Python\\NLP-Project\\.git\\objects\\pack\n",
      "\tpack-7af839f5e08103438944b0bd07e5994c0ef8f24b.idx\n",
      "\tpack-7af839f5e08103438944b0bd07e5994c0ef8f24b.pack\n",
      "C:\\Users\\zurab\\Dropbox\\Shared Folder\\Python\\NLP-Project\\.git\\refs\n",
      "\theads\n",
      "\tremotes\n",
      "\ttags\n",
      "C:\\Users\\zurab\\Dropbox\\Shared Folder\\Python\\NLP-Project\\.git\\refs\\heads\n",
      "\tmain\n",
      "C:\\Users\\zurab\\Dropbox\\Shared Folder\\Python\\NLP-Project\\.git\\refs\\remotes\n",
      "\torigin\n",
      "C:\\Users\\zurab\\Dropbox\\Shared Folder\\Python\\NLP-Project\\.git\\refs\\remotes\\origin\n",
      "\tHEAD\n",
      "C:\\Users\\zurab\\Dropbox\\Shared Folder\\Python\\NLP-Project\\.git\\refs\\tags\n",
      "C:\\Users\\zurab\\Dropbox\\Shared Folder\\Python\\NLP-Project\\.ipynb_checkpoints\n",
      "C:\\Users\\zurab\\Dropbox\\Shared Folder\\Python\\NLP-Project\\Preparation python skills\n",
      "\t.ipynb_checkpoints\n",
      "\tAdvance Python Modules\n",
      "C:\\Users\\zurab\\Dropbox\\Shared Folder\\Python\\NLP-Project\\Preparation python skills\\.ipynb_checkpoints\n",
      "C:\\Users\\zurab\\Dropbox\\Shared Folder\\Python\\NLP-Project\\Preparation python skills\\Advance Python Modules\n",
      "\t.ipynb_checkpoints\n",
      "\tos-module.ipynb\n",
      "C:\\Users\\zurab\\Dropbox\\Shared Folder\\Python\\NLP-Project\\Preparation python skills\\Advance Python Modules\\.ipynb_checkpoints\n",
      "\tos-module-checkpoint.ipynb\n"
     ]
    }
   ],
   "source": [
    "path=\"C:\\\\Users\\\\zurab\\\\Dropbox\\\\Shared Folder\\\\Python\\\\NLP-Project\"\n",
    "for folders,sub_folders,files in os.walk(path):\n",
    "    print(folders)\n",
    "    for sub_folder in sub_folders:\n",
    "        print(\"\\t\"+sub_folder)\n",
    "    for file in files:\n",
    "        print(\"\\t\"+file)\n",
    "        \n",
    "    "
   ]
  }
 ],
 "metadata": {
  "hide_input": false,
  "kernelspec": {
   "display_name": "Python 3",
   "language": "python",
   "name": "python3"
  },
  "language_info": {
   "codemirror_mode": {
    "name": "ipython",
    "version": 3
   },
   "file_extension": ".py",
   "mimetype": "text/x-python",
   "name": "python",
   "nbconvert_exporter": "python",
   "pygments_lexer": "ipython3",
   "version": "3.8.5"
  }
 },
 "nbformat": 4,
 "nbformat_minor": 5
}
