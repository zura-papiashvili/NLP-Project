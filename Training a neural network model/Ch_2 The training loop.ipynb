{
 "cells": [
  {
   "cell_type": "markdown",
   "id": "0e6efb12",
   "metadata": {},
   "source": [
    "In this exercise, you’ll prepare a spaCy pipeline to train the entity recognizer to recognize \"GADGET\" entities in a text – for example, “iPhone X”.\n",
    "\n",
    "- Create a blank \"en\" model, for example using the spacy.blank method.\n",
    "- Create a new entity recognizer using nlp.create_pipe and add it to the pipeline.\n",
    "- Add the new label \"GADGET\" to the entity recognizer using the add_label method on the pipeline component."
   ]
  },
  {
   "cell_type": "code",
   "execution_count": 2,
   "id": "3d5f7d0e",
   "metadata": {},
   "outputs": [
    {
     "ename": "SyntaxError",
     "evalue": "invalid syntax (Temp/ipykernel_26872/3906057293.py, line 11)",
     "output_type": "error",
     "traceback": [
      "\u001b[1;36m  File \u001b[1;32m\"C:\\Users\\zurab\\AppData\\Local\\Temp/ipykernel_26872/3906057293.py\"\u001b[1;36m, line \u001b[1;32m11\u001b[0m\n\u001b[1;33m    ner = nlp.create_pipe(\"ner\")\u001b[0m\n\u001b[1;37m    ^\u001b[0m\n\u001b[1;31mSyntaxError\u001b[0m\u001b[1;31m:\u001b[0m invalid syntax\n"
     ]
    }
   ],
   "source": [
    "import spacy\n",
    "from spacy.language import Language\n",
    "\n",
    "# Define the custom component\n",
    "\n",
    "# Create a blank \"en\" model\n",
    "nlp = spacy.blank(\"en\")\n",
    "\n",
    "# Create a new entity recognizer and add it to the pipeline\n",
    "@Language.component(\"ner\")\n",
    "ner = nlp.create_pipe(\"ner\")\n",
    "nlp.add_pipe(\"ner\",name=\"ner\",first=True)\n",
    "\n",
    "# Add the label \"GADGET\" to the entity recognizer\n",
    "ner.add_label(\"GADGET\")"
   ]
  },
  {
   "cell_type": "code",
   "execution_count": 4,
   "id": "0208d91c",
   "metadata": {},
   "outputs": [
    {
     "data": {
      "text/plain": [
       "1"
      ]
     },
     "execution_count": 4,
     "metadata": {},
     "output_type": "execute_result"
    }
   ],
   "source": [
    "import spacy\n",
    "\n",
    "# Create a blank \"en\" model\n",
    "nlp = spacy.blank(\"en\")\n",
    "\n",
    "# Create a new entity recognizer and add it to the pipeline\n",
    "\n",
    "nlp.add_pipe(\"ner\")\n",
    "\n",
    "# Add the label \"GADGET\" to the entity recognizer\n",
    "ner.add_label(\"GADGET\")"
   ]
  },
  {
   "cell_type": "markdown",
   "id": "7d99f4bf",
   "metadata": {},
   "source": [
    "Let’s write a simple training loop from scratch!\n",
    "\n",
    "The pipeline you’ve created in the previous exercise is available as the nlp object. It already contains the entity recognizer with the added label \"GADGET\".\n",
    "\n",
    "The small set of labelled examples that you’ve created previously is available as TRAINING_DATA. To see the examples, you can print them in your script.\n",
    "\n",
    "- Call nlp.begin_training, create a training loop for 10 iterations and shuffle the training data.\n",
    "- Create batches of training data using spacy.util.minibatch and iterate over the batches.\n",
    "- Convert the (text, annotations) tuples in the batch to lists of texts and annotations.\n",
    "- For each batch, use nlp.update to update the model with the texts and annotations."
   ]
  },
  {
   "cell_type": "code",
   "execution_count": 62,
   "id": "5f9bb0ff",
   "metadata": {},
   "outputs": [
    {
     "name": "stdout",
     "output_type": "stream",
     "text": [
      "{'ner': 3.3333334922790527}\n",
      "{'ner': 10.57428377866745}\n",
      "{'ner': 15.18784213066101}\n",
      "{'ner': 19.61316305398941}\n",
      "{'ner': 26.33499163389206}\n",
      "{'ner': 30.953143417835236}\n",
      "{'ner': 3.9773558974266052}\n",
      "{'ner': 6.107253015041351}\n",
      "{'ner': 9.60909390449524}\n",
      "{'ner': 11.454748257994652}\n",
      "{'ner': 12.618445686995983}\n",
      "{'ner': 13.592833898961544}\n",
      "{'ner': 0.784626726526767}\n",
      "{'ner': 5.281341481837444}\n",
      "{'ner': 7.676397502771579}\n",
      "{'ner': 9.67427089868579}\n",
      "{'ner': 9.696120108070318}\n",
      "{'ner': 11.379895677411696}\n",
      "{'ner': 1.1947878953651525}\n",
      "{'ner': 2.302857048867736}\n",
      "{'ner': 3.186356058147794}\n",
      "{'ner': 3.759413271651283}\n",
      "{'ner': 3.759849281462266}\n",
      "{'ner': 4.085408241021469}\n",
      "{'ner': 1.1526227818833945}\n",
      "{'ner': 1.1526492638080867}\n",
      "{'ner': 1.186012097821731}\n",
      "{'ner': 1.1945256181799238}\n",
      "{'ner': 1.20071875577624}\n",
      "{'ner': 1.2018156952802936}\n",
      "{'ner': 0.00012432494122993631}\n",
      "{'ner': 0.0002371366704680966}\n",
      "{'ner': 0.0002513230536865807}\n",
      "{'ner': 0.00025984274499027404}\n",
      "{'ner': 1.8531933726453627}\n",
      "{'ner': 1.8531933967555805}\n",
      "{'ner': 1.571367624908504e-08}\n",
      "{'ner': 5.3067006556357845e-08}\n",
      "{'ner': 7.919160474468136e-07}\n",
      "{'ner': 8.272651578052016e-07}\n",
      "{'ner': 8.384051561320541e-07}\n",
      "{'ner': 0.8252501993144248}\n",
      "{'ner': 0.5770224501887956}\n",
      "{'ner': 0.5770224545071634}\n",
      "{'ner': 0.5770224947654469}\n",
      "{'ner': 0.5770224961790662}\n",
      "{'ner': 0.5770241785563426}\n",
      "{'ner': 0.5770241827073395}\n",
      "{'ner': 2.0459645029601362e-10}\n",
      "{'ner': 3.805705731259971e-09}\n",
      "{'ner': 0.5598834976497582}\n",
      "{'ner': 0.5598836205313428}\n",
      "{'ner': 0.5598836250194955}\n",
      "{'ner': 0.5598836277093624}\n",
      "{'ner': 2.5502617617145744e-09}\n",
      "{'ner': 2.888302055331117e-08}\n",
      "{'ner': 3.003965642695597e-08}\n",
      "{'ner': 3.632874963252441e-08}\n",
      "{'ner': 0.06291509926721488}\n",
      "{'ner': 0.06291509939050204}\n"
     ]
    }
   ],
   "source": [
    "import spacy\n",
    "import random\n",
    "import json\n",
    "from spacy.training.example import Example\n",
    "from spacy.util import minibatch, compounding\n",
    "with open(\"gadgets.json\", encoding=\"utf8\") as f:\n",
    "    TRAINING_DATA = json.loads(f.read())\n",
    "\n",
    "nlp = spacy.blank(\"en\")\n",
    "nlp.add_pipe(\"ner\")\n",
    "ner.add_label(\"GADGET\")\n",
    "\n",
    "# Start the training\n",
    "nlp.begin_training\n",
    "optimizer = nlp.initialize()\n",
    "# Loop for 10 iterations\n",
    "for itn in range(10):\n",
    "    # Shuffle the training data\n",
    "    random.shuffle(TRAINING_DATA)\n",
    "    losses = {}\n",
    "    # Batch the examples and iterate over them\n",
    "    for text,entities in TRAINING_DATA:   \n",
    "        #create an example\n",
    "        doc=nlp.make_doc(text)\n",
    "        example=Example.from_dict(doc,entities)\n",
    "        # Update the model\n",
    "        nlp.update([example],losses=losses)\n",
    "        print(losses)\n",
    "\n",
    "\n",
    "        \n",
    "   "
   ]
  },
  {
   "cell_type": "markdown",
   "id": "4c71ae0a",
   "metadata": {},
   "source": []
  },
  {
   "cell_type": "markdown",
   "id": "61441bd0",
   "metadata": {},
   "source": []
  },
  {
   "cell_type": "markdown",
   "id": "9de3bbe3",
   "metadata": {},
   "source": []
  }
 ],
 "metadata": {
  "hide_input": false,
  "kernelspec": {
   "display_name": "Python 3 (ipykernel)",
   "language": "python",
   "name": "python3"
  },
  "language_info": {
   "codemirror_mode": {
    "name": "ipython",
    "version": 3
   },
   "file_extension": ".py",
   "mimetype": "text/x-python",
   "name": "python",
   "nbconvert_exporter": "python",
   "pygments_lexer": "ipython3",
   "version": "3.9.7"
  }
 },
 "nbformat": 4,
 "nbformat_minor": 5
}
