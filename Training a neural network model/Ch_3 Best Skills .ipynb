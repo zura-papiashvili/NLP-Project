{
 "cells": [
  {
   "cell_type": "markdown",
   "id": "4e69ce5f",
   "metadata": {},
   "source": [
    "## Good Data vs Bad Data\n",
    "Here’s an excerpt from a training set that labels the entity type TOURIST_DESTINATION in traveler reviews."
   ]
  },
  {
   "cell_type": "code",
   "execution_count": null,
   "id": "6c356208",
   "metadata": {},
   "outputs": [],
   "source": [
    "TRAINING_DATA = [\n",
    "    (\n",
    "        \"i went to amsterdem last year and the canals were beautiful\",\n",
    "        {\"entities\": [(10, 19, \"TOURIST_DESTINATION\")]},\n",
    "    ),\n",
    "    (\n",
    "        \"You should visit Paris once in your life, but the Eiffel Tower is kinda boring\",\n",
    "        {\"entities\": [(17, 22, \"TOURIST_DESTINATION\")]},\n",
    "    ),\n",
    "    (\"There's also a Paris in Arkansas, lol\", {\"entities\": []}),\n",
    "    (\n",
    "        \"Berlin is perfect for summer holiday: lots of parks, great nightlife, cheap beer!\",\n",
    "        {\"entities\": [(0, 6, \"TOURIST_DESTINATION\")]},\n",
    "    ),\n",
    "]"
   ]
  },
  {
   "cell_type": "markdown",
   "id": "cf9f9bc6",
   "metadata": {},
   "source": [
    "Whether a place is a tourist destination is a subjective judgement and not a definitive category. \n",
    "\n",
    "It will be very difficult for the entity recognizer to learn.\n",
    "\n",
    "A much better approach would be to only label \"GPE\" (geopolitical entity) or \"LOCATION\"\n",
    "\n",
    "and then use a rule-based system to determine whether the entity is a tourist destination in this context.\n",
    "\n",
    "For example, you could resolve the entities types back to a knowledge base or look them up in a travel wiki."
   ]
  },
  {
   "cell_type": "markdown",
   "id": "c1abbcd5",
   "metadata": {},
   "source": [
    "Part 2\n",
    "- Rewrite the TRAINING_DATA to only use the label \"GPE\" (cities, states, countries) instead of \"TOURIST_DESTINATION\".\n",
    "- Don’t forget to add tuples for the \"GPE\" entities that weren’t labeled in the old data."
   ]
  },
  {
   "cell_type": "code",
   "execution_count": 1,
   "id": "97adb553",
   "metadata": {},
   "outputs": [],
   "source": [
    "TRAINING_DATA = [\n",
    "    (\n",
    "        \"i went to amsterdem last year and the canals were beautiful\",\n",
    "        {\"entities\": [(10, 19, \"GPE\")]},\n",
    "    ),\n",
    "    (\n",
    "        \"You should visit Paris once in your life, but the Eiffel Tower is kinda boring\",\n",
    "        {\"entities\": [(17, 22, \"GPE\")]},\n",
    "    ),\n",
    "    (\n",
    "        \"There's also a Paris in Arkansas, lol\",\n",
    "        {\"entities\": [(15, 20, \"GPE\"), (24, 32, \"GPE\")]},\n",
    "    ),\n",
    "    (\n",
    "        \"Berlin is perfect for summer holiday: lots of parks, great nightlife, cheap beer!\",\n",
    "        {\"entities\": [(0, 6, \"GPE\")]},\n",
    "    ),\n",
    "]"
   ]
  },
  {
   "cell_type": "markdown",
   "id": "1abd27cc",
   "metadata": {},
   "source": [
    "Here’s a small sample of a dataset created to train a new entity type \"WEBSITE\". \n",
    "\n",
    "The original dataset contains a few thousand sentences. In this exercise, you’ll be doing the labeling by hand.\n",
    "\n",
    "In real life, you probably want to automate this and use an annotation tool – for example, Brat,\n",
    "\n",
    "a popular open-source solution, or Prodigy, our own annotation tool that integrates with spaCy.\n",
    "\n",
    "Part 1\n",
    "- Complete the entity offsets for the \"WEBSITE\" entities in the data. Feel free to use len() if you don’t want to count the characters."
   ]
  },
  {
   "cell_type": "code",
   "execution_count": 2,
   "id": "4e3e2099",
   "metadata": {},
   "outputs": [],
   "source": [
    "TRAINING_DATA = [\n",
    "    (\n",
    "        \"Reddit partners with Patreon to help creators build communities\",\n",
    "        {\"entities\": [(0, 6, \"WEBSITE\"), (21, 28, \"WEBSITE\")]},\n",
    "    ),\n",
    "    (\"PewDiePie smashes YouTube record\", {\"entities\": [(18, 25, \"WEBSITE\")]}),\n",
    "    (\n",
    "        \"Reddit founder Alexis Ohanian gave away two Metallica tickets to fans\",\n",
    "        {\"entities\": [(0, 6, \"WEBSITE\")]},\n",
    "    ),\n",
    "    # And so on...\n",
    "]"
   ]
  },
  {
   "cell_type": "markdown",
   "id": "e7e9c133",
   "metadata": {},
   "source": [
    "Part 2\n",
    "\n",
    "A model was trained with the data you just labelled, plus a few thousand similar examples. After training, it’s doing great on \"WEBSITE\", but doesn’t recognize \"PERSON\" anymore. Why could this be happening?\n",
    "\n",
    "The training data included no examples of \"PERSON\", so the model learned that this label is incorrect.\n",
    "\n",
    "If \"PERSON\" entities occur in the training data but aren’t labelled, the model will learn that they shouldn’t be predicted. Similarly, if an existing entity type isn’t present in the training data, the model may ”forget” and stop predicting it.\n",
    "\n",
    "Part 3\n",
    "\n",
    "Update the training data to include annotations for the \"PERSON\" entities “PewDiePie” and “Alexis Ohanian”.\n"
   ]
  },
  {
   "cell_type": "code",
   "execution_count": 3,
   "id": "3dfb8dd3",
   "metadata": {},
   "outputs": [],
   "source": [
    "TRAINING_DATA = [\n",
    "    (\n",
    "        \"Reddit partners with Patreon to help creators build communities\",\n",
    "        {\"entities\": [(0, 6, \"WEBSITE\"), (21, 28, \"WEBSITE\")]},\n",
    "    ),\n",
    "    (\n",
    "        \"PewDiePie smashes YouTube record\",\n",
    "        {\"entities\": [(0, 9, \"PERSON\"), (18, 25, \"WEBSITE\")]},\n",
    "    ),\n",
    "    (\n",
    "        \"Reddit founder Alexis Ohanian gave away two Metallica tickets to fans\",\n",
    "        {\"entities\": [(0, 6, \"WEBSITE\"), (15, 29, \"PERSON\")]},\n",
    "    ),\n",
    "    # And so on...\n",
    "]"
   ]
  }
 ],
 "metadata": {
  "hide_input": false,
  "kernelspec": {
   "display_name": "Python 3 (ipykernel)",
   "language": "python",
   "name": "python3"
  },
  "language_info": {
   "codemirror_mode": {
    "name": "ipython",
    "version": 3
   },
   "file_extension": ".py",
   "mimetype": "text/x-python",
   "name": "python",
   "nbconvert_exporter": "python",
   "pygments_lexer": "ipython3",
   "version": "3.9.7"
  }
 },
 "nbformat": 4,
 "nbformat_minor": 5
}
