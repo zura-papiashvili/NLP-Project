{
 "cells": [
  {
   "cell_type": "markdown",
   "id": "7b750799",
   "metadata": {},
   "source": [
    "## Word Vectors"
   ]
  },
  {
   "cell_type": "code",
   "execution_count": 20,
   "id": "a6a2e995",
   "metadata": {},
   "outputs": [],
   "source": [
    "import spacy"
   ]
  },
  {
   "cell_type": "code",
   "execution_count": 21,
   "id": "a38b8627",
   "metadata": {},
   "outputs": [],
   "source": [
    "nlp=spacy.load('en_core_web_lg')"
   ]
  },
  {
   "cell_type": "code",
   "execution_count": 22,
   "id": "646b206b",
   "metadata": {},
   "outputs": [
    {
     "data": {
      "text/plain": [
       "(300,)"
      ]
     },
     "execution_count": 22,
     "metadata": {},
     "output_type": "execute_result"
    }
   ],
   "source": [
    "nlp(u'lion').vector.shape"
   ]
  },
  {
   "cell_type": "markdown",
   "id": "abcba904",
   "metadata": {},
   "source": [
    "## Check Similarity"
   ]
  },
  {
   "cell_type": "code",
   "execution_count": 23,
   "id": "131c269a",
   "metadata": {},
   "outputs": [],
   "source": [
    "tokens=nlp(u'lion cat pet')\n"
   ]
  },
  {
   "cell_type": "code",
   "execution_count": 24,
   "id": "26d3ed9b",
   "metadata": {},
   "outputs": [
    {
     "name": "stdout",
     "output_type": "stream",
     "text": [
      "lion     lion     1.0     \n",
      "lion     cat      0.527   \n",
      "lion     pet      0.399   \n",
      "cat      lion     0.527   \n",
      "cat      cat      1.0     \n",
      "cat      pet      0.751   \n",
      "pet      lion     0.399   \n",
      "pet      cat      0.751   \n",
      "pet      pet      1.0     \n"
     ]
    }
   ],
   "source": [
    "for token1 in tokens:\n",
    "    for token2 in tokens:\n",
    "        print(\"{:<8} {:<8} {:<8}\".format(token1.text,token2.text,round(float(token1.similarity(token2)),3)))"
   ]
  },
  {
   "cell_type": "code",
   "execution_count": 26,
   "id": "8f539ada",
   "metadata": {},
   "outputs": [
    {
     "data": {
      "text/plain": [
       "(684830, 300)"
      ]
     },
     "execution_count": 26,
     "metadata": {},
     "output_type": "execute_result"
    }
   ],
   "source": [
    "nlp.vocab.vectors.shape"
   ]
  },
  {
   "cell_type": "code",
   "execution_count": 28,
   "id": "70069b31",
   "metadata": {},
   "outputs": [],
   "source": [
    "tokens=nlp(u\"dog cat nargle\")"
   ]
  },
  {
   "cell_type": "code",
   "execution_count": 33,
   "id": "7c85fe48",
   "metadata": {},
   "outputs": [
    {
     "name": "stdout",
     "output_type": "stream",
     "text": [
      "dog      1        7.033673286437988    0       \n",
      "cat      1        6.680818557739258    0       \n",
      "nargle   0        0.0                  1       \n"
     ]
    }
   ],
   "source": [
    "for token in tokens:\n",
    "    print(\"{:<8} {:<8} {:<20} {:<8}\".format(token.text,token.has_vector,token.vector_norm,token.is_oov))"
   ]
  },
  {
   "cell_type": "code",
   "execution_count": 35,
   "id": "5b8abfab",
   "metadata": {},
   "outputs": [],
   "source": [
    "from scipy import spatial\n",
    "\n",
    "cosine_similarity = lambda vec1,vec2: 1-spatial.distance.cosine(vec1,vec2)"
   ]
  },
  {
   "cell_type": "code",
   "execution_count": 37,
   "id": "ecae7880",
   "metadata": {},
   "outputs": [],
   "source": [
    "king= nlp.vocab['king'].vector\n",
    "man= nlp.vocab['man'].vector\n",
    "woman= nlp.vocab['woman'].vector"
   ]
  },
  {
   "cell_type": "code",
   "execution_count": 57,
   "id": "237db0ce",
   "metadata": {},
   "outputs": [],
   "source": [
    "new_vector=king+woman-man"
   ]
  },
  {
   "cell_type": "code",
   "execution_count": 58,
   "id": "f5fb42e3",
   "metadata": {},
   "outputs": [],
   "source": [
    "computed_simalirities=[]\n",
    "\n",
    "for word in nlp.vocab:\n",
    "    if word.has_vector:\n",
    "        if word.is_lower:\n",
    "            if word.is_alpha:\n",
    "                similarity=cosine_similarity(new_vector,word.vector)\n",
    "                computed_simalirities.append((word,similarity))"
   ]
  },
  {
   "cell_type": "code",
   "execution_count": 59,
   "id": "3d806263",
   "metadata": {},
   "outputs": [],
   "source": [
    "computed_simalirities=sorted(computed_simalirities,key=lambda item:-item[1])"
   ]
  },
  {
   "cell_type": "code",
   "execution_count": 60,
   "id": "18736399",
   "metadata": {},
   "outputs": [
    {
     "name": "stdout",
     "output_type": "stream",
     "text": [
      "['king', 'woman', 'she', 'lion', 'who', 'when', 'dare', 'cat', 'was', 'not']\n"
     ]
    }
   ],
   "source": [
    "print([t[0].text for t in computed_simalirities[:10]])"
   ]
  },
  {
   "cell_type": "code",
   "execution_count": null,
   "id": "59599510",
   "metadata": {},
   "outputs": [],
   "source": []
  }
 ],
 "metadata": {
  "hide_input": false,
  "kernelspec": {
   "display_name": "Python 3 (ipykernel)",
   "language": "python",
   "name": "python3"
  },
  "language_info": {
   "codemirror_mode": {
    "name": "ipython",
    "version": 3
   },
   "file_extension": ".py",
   "mimetype": "text/x-python",
   "name": "python",
   "nbconvert_exporter": "python",
   "pygments_lexer": "ipython3",
   "version": "3.9.7"
  }
 },
 "nbformat": 4,
 "nbformat_minor": 5
}
